{
 "cells": [
  {
   "cell_type": "code",
   "execution_count": 17,
   "metadata": {},
   "outputs": [
    {
     "name": "stdout",
     "output_type": "stream",
     "text": [
      "频繁项集： {1: {('挡泥板',): 2110, ('骑行服',): 3192, ('头盔',): 5960, ('车胎和内胎',): 8490, ('山地自行车',): 4089, ('旅行自行车',): 2143, ('公路自行车',): 6397, ('帽子',): 2132, ('水壶和水壶架',): 4548}, 2: {('头盔', '车胎和内胎'): 2921, ('公路自行车', '头盔'): 2051, ('公路自行车', '山地自行车'): 2053}}\n",
      "关联规则： [{车胎和内胎} -> {头盔}, {头盔} -> {车胎和内胎}, {头盔} -> {公路自行车}, {公路自行车} -> {头盔}, {山地自行车} -> {公路自行车}, {公路自行车} -> {山地自行车}]\n"
     ]
    }
   ],
   "source": [
    "import pandas as pd\n",
    "from efficient_apriori import apriori\n",
    "\n",
    "dataset = pd.read_csv('./订单表.csv',encoding='gbk') \n",
    "\n",
    "#删除多余的列\n",
    "dataset.drop(['订单日期','年份','订单数量','产品ID','产品型号名称','产品类别','单价','销售金额','产品成本','利润','交易类型','销售区域ID','销售大区','国家','区域'],axis=1,inplace=True)\n",
    "#print(dataset)\n",
    "\n",
    "dataset['产品名称'] = dataset['产品名称'].apply(lambda x:[x])\n",
    "data = dataset.groupby(by='客户ID')['产品名称'].sum()\n",
    "#print(data)\n",
    "#print(data.shape)\n",
    "\n",
    "# 将数据存放到transactions中\n",
    "transactions = []\n",
    "for i in range(0, data.shape[0]):\n",
    "    transactions.append(data.values[i])\n",
    "\n",
    "#print(transactions)\n",
    "\n",
    "# 挖掘频繁项集和关联规则\n",
    "itemsets, rules = apriori(transactions, min_support=0.1,  min_confidence=0.2)\n",
    "print(\"频繁项集：\", itemsets)\n",
    "print(\"关联规则：\", rules)\n",
    "\n"
   ]
  },
  {
   "cell_type": "code",
   "execution_count": null,
   "metadata": {},
   "outputs": [],
   "source": []
  }
 ],
 "metadata": {
  "kernelspec": {
   "display_name": "Python 3",
   "language": "python",
   "name": "python3"
  },
  "language_info": {
   "codemirror_mode": {
    "name": "ipython",
    "version": 3
   },
   "file_extension": ".py",
   "mimetype": "text/x-python",
   "name": "python",
   "nbconvert_exporter": "python",
   "pygments_lexer": "ipython3",
   "version": "3.7.6"
  }
 },
 "nbformat": 4,
 "nbformat_minor": 4
}
